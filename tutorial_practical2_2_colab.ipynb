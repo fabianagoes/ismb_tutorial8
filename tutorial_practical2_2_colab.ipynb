{
 "cells": [
  {
   "cell_type": "code",
   "execution_count": null,
   "id": "bb1da61c",
   "metadata": {},
   "outputs": [],
   "source": [
    "!pip install transformers==4.29.2 torch==1.13.1 scikit-learn==1.2.2"
   ]
  },
  {
   "cell_type": "code",
   "execution_count": null,
   "id": "71df452d",
   "metadata": {},
   "outputs": [],
   "source": [
    "from google.colab import drive\n",
    "!git clone https://github.com/fabianagoes/ismb_tutorial8.git\n",
    "%cd ismb_tutorial8\n",
    "drive.mount('/content/drive')\n",
    "import torch\n",
    "from transformers import AutoTokenizer, AutoModel\n",
    "import pandas as pd\n",
    "import numpy as np\n",
    "from sklearn.neural_network import MLPClassifier\n",
    "from sklearn.metrics import accuracy_score, precision_recall_fscore_support, classification_report\n",
    "from utils import get_all_subdirs\n",
    "import ipywidgets as widgets\n",
    "from IPython.display import display"
   ]
  },
  {
   "cell_type": "code",
   "execution_count": null,
   "id": "9f7b740f",
   "metadata": {},
   "outputs": [],
   "source": [
    "root_dir = \"/content/ismb_tutorial8/datasets\"\n",
    "subdirs = get_all_subdirs(root_dir) # internal function that goes over all subdirectories. Source code: utils.py\n",
    "\n",
    "dropdown = widgets.Dropdown(\n",
    "    options=subdirs,\n",
    "    description='Select:',\n",
    "    disabled=False,\n",
    ")\n",
    "\n",
    "selected_path = {'value': subdirs[0]}\n",
    "\n",
    "def on_change(change):\n",
    "    if change['type'] == 'change' and change['name'] == 'value':\n",
    "        selected_path['value'] = change['new']\n",
    "\n",
    "dropdown.observe(on_change)\n",
    "\n",
    "display(dropdown)"
   ]
  },
  {
   "cell_type": "code",
   "execution_count": null,
   "id": "27170f4c",
   "metadata": {},
   "outputs": [],
   "source": [
    "tokenizer = AutoTokenizer.from_pretrained(\"zhihan1996/DNABERT-2-117M\", trust_remote_code=True)\n",
    "model = AutoModel.from_pretrained(\"zhihan1996/DNABERT-2-117M\", trust_remote_code=True)\n",
    "model.eval()"
   ]
  },
  {
   "cell_type": "code",
   "execution_count": null,
   "id": "3aac538d",
   "metadata": {},
   "outputs": [],
   "source": [
    "# Generate embeddings\n",
    "def get_embedding_cls(sequence):\n",
    "    inputs = tokenizer(sequence, return_tensors=\"pt\", padding=True, truncation=True)\n",
    "    inputs = {k: v.cuda() for k, v in inputs.items()}  # GPU\n",
    "    with torch.no_grad():\n",
    "        outputs = model(**inputs)\n",
    "    hidden_states = outputs.last_hidden_state  # [batch_size, seq_len, hidden_size]\n",
    "    cls_embedding = hidden_states[:, 0, :]  # Pega o token CLS (posição 0)\n",
    "    return cls_embedding.cpu().numpy().flatten()"
   ]
  },
  {
   "cell_type": "code",
   "execution_count": null,
   "id": "7a95cc67",
   "metadata": {},
   "outputs": [],
   "source": [
    "# Generate embeddings for the datasets\n",
    "def embed_dataframe(df):\n",
    "    X = []\n",
    "    for seq in df['sequence']:\n",
    "        X.append(get_embedding_cls(seq))\n",
    "    X = np.vstack(X)\n",
    "    y = df['label'].values\n",
    "    return X, y"
   ]
  },
  {
   "cell_type": "code",
   "execution_count": null,
   "id": "a7e841a3",
   "metadata": {},
   "outputs": [],
   "source": [
    "print('Dataset Selected: ',selected_path['value'])\n",
    "\n",
    "train_data=pd.read_csv(selected_path['value']+'/train.csv')#read_csv to read csv files\n",
    "val_data=pd.read_csv(selected_path['value']+'/dev.csv')\n",
    "test_data=pd.read_csv(selected_path['value']+'/test.csv')\n",
    "data={'Train':train_data,'Val':val_data,'Test':test_data}\n",
    "\n",
    "train_data.head(5)# displays first 5 datapoints\n",
    "\n",
    "X_train, y_train = embed_dataframe(train_data)\n",
    "X_val, y_val = embed_dataframe(val_data)\n",
    "X_test, y_test = embed_dataframe(test_data)\n",
    "\n",
    "print(f\"Train shape: {X_train.shape}\")\n",
    "print(f\"Test shape: {X_test.shape}\")"
   ]
  },
  {
   "cell_type": "code",
   "execution_count": null,
   "id": "518f01b2",
   "metadata": {},
   "outputs": [],
   "source": [
    "# Train MLP\n",
    "clf = MLPClassifier(hidden_layer_sizes=(256,), max_iter=500, random_state=42)\n",
    "clf.fit(X_train, y_train)"
   ]
  },
  {
   "cell_type": "code",
   "execution_count": null,
   "id": "dfd264ea",
   "metadata": {},
   "outputs": [],
   "source": [
    "# Evaluating on test data\n",
    "y_pred = clf.predict(X_test)\n",
    "\n",
    "print(\"\\nClassification Report:\")\n",
    "print(classification_report(y_test, y_pred))\n",
    "\n",
    "acc = accuracy_score(y_test, y_pred)\n",
    "prec, recall, f1, _ = precision_recall_fscore_support(y_test, y_pred, average='weighted')\n",
    "\n",
    "print(f\"Accuracy: {acc:.4f}\")\n",
    "print(f\"Precision: {prec:.4f}\")\n",
    "print(f\"Recall: {recall:.4f}\")\n",
    "print(f\"F1-score: {f1:.4f}\")"
   ]
  }
 ],
 "metadata": {
  "language_info": {
   "name": "python"
  }
 },
 "nbformat": 4,
 "nbformat_minor": 5
}
