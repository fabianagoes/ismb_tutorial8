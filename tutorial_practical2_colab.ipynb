{
 "cells": [
  {
   "cell_type": "code",
   "execution_count": null,
   "id": "5ad9829f",
   "metadata": {},
   "outputs": [],
   "source": [
    "!git clone https://github.com/fabianagoes/ismb_tutorial8.git"
   ]
  },
  {
   "cell_type": "code",
   "execution_count": null,
   "id": "3903488a",
   "metadata": {},
   "outputs": [],
   "source": [
    "%cd ismb_tutorial8"
   ]
  },
  {
   "cell_type": "code",
   "execution_count": null,
   "id": "e09676ae",
   "metadata": {},
   "outputs": [],
   "source": [
    "from google.colab import drive\n",
    "drive.mount('/content/drive')"
   ]
  },
  {
   "cell_type": "code",
   "execution_count": null,
   "id": "71df452d",
   "metadata": {},
   "outputs": [],
   "source": [
    "# 2. Instalar gensim\n",
    "!pip install --quiet gensim\n",
    "\n",
    "# 3. Importações\n",
    "import os\n",
    "from gensim.models import Word2Vec"
   ]
  },
  {
   "cell_type": "code",
   "execution_count": null,
   "id": "d51cb537",
   "metadata": {},
   "outputs": [],
   "source": [
    "# 4. Função para carregar sequências\n",
    "def load_sequences(filepath):\n",
    "    sequences = []\n",
    "    with open(filepath, 'r') as f:\n",
    "        for line in f:\n",
    "            line = line.strip().upper()\n",
    "            if line and not line.startswith('>'):\n",
    "                sequences.append(line)\n",
    "    return sequences\n",
    "\n",
    "# 5. Função para gerar k-mers\n",
    "def kmerize(sequence, k=3):\n",
    "    return [sequence[i:i+k] for i in range(len(sequence)-k+1)]\n"
   ]
  },
  {
   "cell_type": "code",
   "execution_count": null,
   "id": "ccfc9edf",
   "metadata": {},
   "outputs": [],
   "source": [
    "# 6. Carregar as sequências do arquivo no repo clonado\n",
    "dataset_path = '/content/SEU_REPOSITORIO/dataset/sequences.txt'  # atualize o nome\n",
    "sequences = load_sequences(dataset_path)\n",
    "print(f\"Total de sequências carregadas: {len(sequences)}\")\n",
    "\n",
    "# 7. Criar corpus para word2vec\n",
    "k = 3\n",
    "corpus = [kmerize(seq, k) for seq in sequences]\n",
    "\n",
    "# 8. Treinar o modelo word2vec\n",
    "model = Word2Vec(sentences=corpus, vector_size=100, window=5, min_count=1, workers=2, epochs=10)\n",
    "\n",
    "# 9. Mostrar vetor do primeiro k-mer da primeira sequência\n",
    "example_kmer = corpus[0][0]\n",
    "print(f\"Vetor embedding para {example_kmer}:\")\n",
    "print(model.wv[example_kmer])\n",
    "\n",
    "# 10. Mostrar k-mers mais similares\n",
    "print(\"K-mers mais similares a\", example_kmer)\n",
    "print(model.wv.most_similar(example_kmer))"
   ]
  }
 ],
 "metadata": {
  "language_info": {
   "name": "python"
  }
 },
 "nbformat": 4,
 "nbformat_minor": 5
}
