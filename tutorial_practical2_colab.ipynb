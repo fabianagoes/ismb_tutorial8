{
 "cells": [
  {
   "cell_type": "code",
   "execution_count": null,
   "id": "5ad9829f",
   "metadata": {},
   "outputs": [],
   "source": [
    "!git clone https://github.com/fabianagoes/ismb_tutorial8.git"
   ]
  },
  {
   "cell_type": "code",
   "execution_count": null,
   "id": "3903488a",
   "metadata": {},
   "outputs": [],
   "source": [
    "%cd ismb_tutorial8"
   ]
  },
  {
   "cell_type": "code",
   "execution_count": null,
   "id": "e09676ae",
   "metadata": {},
   "outputs": [],
   "source": [
    "!pip uninstall -y numpy scipy gensim\n",
    "!pip install numpy==1.24.4 scipy==1.10.1 gensim==4.3.3"
   ]
  },
  {
   "cell_type": "code",
   "execution_count": null,
   "id": "71df452d",
   "metadata": {},
   "outputs": [],
   "source": [
    "# 3. Importações\n",
    "import os\n",
    "from gensim.models import Word2Vec\n",
    "import pandas as pd\n",
    "from google.colab import drive\n",
    "drive.mount('/content/drive')"
   ]
  },
  {
   "cell_type": "code",
   "execution_count": null,
   "id": "d51cb537",
   "metadata": {},
   "outputs": [],
   "source": [
    "# 4. Função para carregar sequências\n",
    "def load_sequences(filepath):\n",
    "    sequences = []\n",
    "    with open(filepath, 'r') as f:\n",
    "        for line in f:\n",
    "            line = line.strip().upper()\n",
    "            if line and not line.startswith('>'):\n",
    "                sequences.append(line)\n",
    "    return sequences\n",
    "\n",
    "# 5. Função para gerar k-mers\n",
    "def kmerize(sequence, k=3):\n",
    "    return [sequence[i:i+k] for i in range(len(sequence)-k+1)]\n"
   ]
  },
  {
   "cell_type": "code",
   "execution_count": null,
   "id": "c1501557",
   "metadata": {},
   "outputs": [],
   "source": [
    "root_dir = \"/content/ismb_tutorial8/datasets\"\n",
    "subdirs = get_all_subdirs(root_dir) # internal function that goes over all subdirectories. Source code: utils.py\n",
    "\n",
    "dropdown = widgets.Dropdown(\n",
    "    options=subdirs,\n",
    "    description='Select:',\n",
    "    disabled=False,\n",
    ")\n",
    "\n",
    "selected_path = {'value': subdirs[0]}\n",
    "\n",
    "def on_change(change):\n",
    "    if change['type'] == 'change' and change['name'] == 'value':\n",
    "        selected_path['value'] = change['new']\n",
    "\n",
    "dropdown.observe(on_change)\n",
    "\n",
    "display(dropdown)"
   ]
  },
  {
   "cell_type": "code",
   "execution_count": null,
   "id": "a7e841a3",
   "metadata": {},
   "outputs": [],
   "source": [
    "print('Dataset Selected: ',selected_path['value'])\n",
    "\n",
    "train_data=pd.read_csv(selected_path['value']+'/train.csv')#read_csv to read csv files\n",
    "val_data=pd.read_csv(selected_path['value']+'/dev.csv')\n",
    "test_data=pd.read_csv(selected_path['value']+'/test.csv')\n",
    "data={'Train':train_data,'Val':val_data,'Test':test_data}\n",
    "\n",
    "train_data.head(5)# displays first 5 datapoints"
   ]
  },
  {
   "cell_type": "code",
   "execution_count": null,
   "id": "ccfc9edf",
   "metadata": {},
   "outputs": [],
   "source": [
    "# Função para quebrar sequência em k-mers\n",
    "def kmerize(sequence, k):\n",
    "    return [sequence[i:i+k] for i in range(len(sequence) - k + 1)]\n",
    "\n",
    "# Criar corpus para word2vec usando as sequências do conjunto de treino\n",
    "k = 3\n",
    "corpus = [kmerize(seq, k) for seq in train_data['sequence']]\n",
    "\n",
    "# Treinar o modelo word2vec\n",
    "model = Word2Vec(sentences=corpus, vector_size=100, window=5, min_count=1, workers=2, epochs=10)\n",
    "\n",
    "# Mostrar vetor do primeiro k-mer da primeira sequência\n",
    "example_kmer = corpus[0][0]\n",
    "print(f\"Vetor embedding para {example_kmer}:\")\n",
    "print(model.wv[example_kmer])\n",
    "\n",
    "# Mostrar k-mers mais similares\n",
    "print(\"K-mers mais similares a\", example_kmer)\n",
    "print(model.wv.most_similar(example_kmer))\n"
   ]
  }
 ],
 "metadata": {
  "language_info": {
   "name": "python"
  }
 },
 "nbformat": 4,
 "nbformat_minor": 5
}
